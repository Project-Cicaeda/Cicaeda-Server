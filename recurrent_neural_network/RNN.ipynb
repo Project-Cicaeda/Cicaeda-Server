{
  "cells": [
    {
      "cell_type": "markdown",
      "source": [
        "## RECURRENT NEURAL NETWORKS USING LSTMS"
      ],
      "metadata": {
        "id": "l8kGH7CTmZVb"
      }
    },
    {
      "cell_type": "code",
      "source": [
        "from google.colab import drive\n",
        "drive.mount('/content/drive')"
      ],
      "metadata": {
        "id": "tIErfWfSnFas"
      },
      "execution_count": null,
      "outputs": []
    },
    {
      "cell_type": "markdown",
      "source": [
        "Importing The Required Libraries"
      ],
      "metadata": {
        "id": "FV1YdcpsmcDG"
      }
    },
    {
      "cell_type": "code",
      "source": [
        "import pandas as pd;\n",
        "import numpy as np;\n",
        "import tensorflow as tf\n",
        "from sklearn.preprocessing import MinMaxScaler\n",
        "import matplotlib.pyplot as plt\n",
        "import seaborn as sns"
      ],
      "metadata": {
        "id": "zXarLISjmbtc"
      },
      "execution_count": null,
      "outputs": []
    },
    {
      "cell_type": "markdown",
      "source": [
        "Loading The Preprocessed Dataset"
      ],
      "metadata": {
        "id": "9yorqZpwmi5v"
      }
    },
    {
      "cell_type": "code",
      "source": [
        "dataset = pd.read_csv(\"/content/drive/MyDrive/RNN_Preprocessed_Dataset.csv\")"
      ],
      "metadata": {
        "id": "8a4cO7tymY_i"
      },
      "execution_count": null,
      "outputs": []
    },
    {
      "cell_type": "markdown",
      "source": [
        "Split Into Train & Test"
      ],
      "metadata": {
        "id": "51f8ndxQnrow"
      }
    },
    {
      "cell_type": "code",
      "source": [
        "X_train = []\n",
        "Y_train = []\n",
        "for i in range(40,len(dataset)):\n",
        "    X_train.append(dataset.iloc[i-40:i])\n",
        "    Y_train.append(dataset.iloc[i])\n",
        "X_train,Y_train = np.array(X_train), np.array(Y_train)"
      ],
      "metadata": {
        "id": "ehu0bRuenlwZ"
      },
      "execution_count": null,
      "outputs": []
    },
    {
      "cell_type": "markdown",
      "source": [
        "Building The Neural Network"
      ],
      "metadata": {
        "id": "Qgn2li1wnye0"
      }
    },
    {
      "cell_type": "code",
      "source": [
        "rnn = tf.keras.models.Sequential([\n",
        "    tf.keras.layers.Input(shape=(X_train.shape[1],X_train.shape[2])),\n",
        "    tf.keras.layers.LSTM(units=50,return_sequences=True),\n",
        "    tf.keras.layers.Dropout(0.2),\n",
        "    tf.keras.layers.LSTM(units=50,return_sequences=True),\n",
        "    tf.keras.layers.Dropout(0.2),\n",
        "    tf.keras.layers.LSTM(units=50,return_sequences=True),\n",
        "    tf.keras.layers.Dropout(0.2),\n",
        "    tf.keras.layers.LSTM(units=50),\n",
        "    tf.keras.layers.Dropout(0.2),\n",
        "    tf.keras.layers.Dense(1),\n",
        "])"
      ],
      "metadata": {
        "id": "W3Tt-ncNnyCj"
      },
      "execution_count": null,
      "outputs": []
    },
    {
      "cell_type": "code",
      "source": [
        "rnn.compile(optimizer= tf.keras.optimizers.Adam(learning_rate=0.001),loss=\"mean_squared_error\")"
      ],
      "metadata": {
        "id": "uYDQBXEqnsdg"
      },
      "execution_count": null,
      "outputs": []
    },
    {
      "cell_type": "markdown",
      "source": [
        "Callback Function"
      ],
      "metadata": {
        "id": "rEAEXT-_rf5c"
      }
    },
    {
      "cell_type": "code",
      "source": [
        "callback = tf.keras.callbacks.EarlyStopping(patience=3,monitor=\"loss\")"
      ],
      "metadata": {
        "id": "09ueZ92Mrhgf"
      },
      "execution_count": null,
      "outputs": []
    },
    {
      "cell_type": "code",
      "source": [
        "rnn.summary()"
      ],
      "metadata": {
        "id": "UfTjAJPRrklt"
      },
      "execution_count": null,
      "outputs": []
    },
    {
      "cell_type": "code",
      "source": [
        "rnn.fit(X_train,Y_train,epochs=100,batch_size=32,callbacks=[callback])"
      ],
      "metadata": {
        "id": "fDhcXp7CrlWC"
      },
      "execution_count": null,
      "outputs": []
    }
  ],
  "metadata": {
    "language_info": {
      "name": "python"
    },
    "colab": {
      "provenance": []
    },
    "kernelspec": {
      "name": "python3",
      "display_name": "Python 3"
    }
  },
  "nbformat": 4,
  "nbformat_minor": 0
}